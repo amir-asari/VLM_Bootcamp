{
  "cells": [
    {
      "cell_type": "markdown",
      "metadata": {
        "id": "view-in-github",
        "colab_type": "text"
      },
      "source": [
        "<a href=\"https://colab.research.google.com/github/amir-asari/VLM_Bootcamp/blob/main/Qwen2_5_VL_Image_Classification_Code.ipynb\" target=\"_parent\"><img src=\"https://colab.research.google.com/assets/colab-badge.svg\" alt=\"Open In Colab\"/></a>"
      ]
    },
    {
      "cell_type": "markdown",
      "source": [
        "## Qwen2.5-VL Image Classification with Hugging Face Transformers\n",
        "This code is a consolidated script optimized for a single cell execution in a Google Colab environment with a GPU.\n",
        "\n",
        " ----------------------------------------------------------------\n",
        " 1. Setup and Installation\n",
        " ----------------------------------------------------------------\n",
        "\n",
        "Install necessary libraries. We use the latest transformers from source\n",
        "to ensure Qwen2.5-VL compatibility, and 'flash-attn' for performance."
      ],
      "metadata": {
        "id": "2XTOX2eq3is4"
      }
    },
    {
      "cell_type": "code",
      "source": [
        "!pip install -q git+https://github.com/huggingface/transformers.git accelerate\n",
        "!pip install -q flash-attn\n",
        "!pip install -q qwen-vl-utils pillow\n",
        "\n",
        "import torch\n",
        "import warnings\n",
        "from PIL import Image\n",
        "import requests\n",
        "from io import BytesIO\n",
        "from transformers import Qwen2_5_VLForConditionalGeneration, AutoTokenizer, AutoProcessor\n",
        "\n",
        "# Suppress minor warnings for a clean Colab output\n",
        "warnings.filterwarnings('ignore')\n",
        "\n",
        "print(\"Installation and Imports complete.\")"
      ],
      "metadata": {
        "id": "R1fUqlra5KF5",
        "outputId": "9270d447-2402-41f2-8ab3-d0798710e1b2",
        "colab": {
          "base_uri": "https://localhost:8080/"
        }
      },
      "execution_count": 6,
      "outputs": [
        {
          "output_type": "stream",
          "name": "stdout",
          "text": [
            "  Installing build dependencies ... \u001b[?25l\u001b[?25hdone\n",
            "  Getting requirements to build wheel ... \u001b[?25l\u001b[?25hdone\n",
            "  Preparing metadata (pyproject.toml) ... \u001b[?25l\u001b[?25hdone\n",
            "\u001b[2K   \u001b[90m━━━━━━━━━━━━━━━━━━━━━━━━━━━━━━━━━━━━━━━━\u001b[0m \u001b[32m528.7/528.7 kB\u001b[0m \u001b[31m14.3 MB/s\u001b[0m eta \u001b[36m0:00:00\u001b[0m\n",
            "\u001b[2K   \u001b[90m━━━━━━━━━━━━━━━━━━━━━━━━━━━━━━━━━━━━━━━━\u001b[0m \u001b[32m46.8/46.8 kB\u001b[0m \u001b[31m2.2 MB/s\u001b[0m eta \u001b[36m0:00:00\u001b[0m\n",
            "\u001b[?25h  Building wheel for transformers (pyproject.toml) ... \u001b[?25l\u001b[?25hdone\n",
            "\u001b[2K     \u001b[90m━━━━━━━━━━━━━━━━━━━━━━━━━━━━━━━━━━━━━━━━\u001b[0m \u001b[32m8.4/8.4 MB\u001b[0m \u001b[31m81.9 MB/s\u001b[0m eta \u001b[36m0:00:00\u001b[0m\n",
            "\u001b[?25h  Preparing metadata (setup.py) ... \u001b[?25l\u001b[?25hdone\n",
            "  Building wheel for flash-attn (setup.py) ... \u001b[?25l\u001b[?25hdone\n",
            "\u001b[2K   \u001b[90m━━━━━━━━━━━━━━━━━━━━━━━━━━━━━━━━━━━━━━━━\u001b[0m \u001b[32m39.9/39.9 MB\u001b[0m \u001b[31m18.7 MB/s\u001b[0m eta \u001b[36m0:00:00\u001b[0m\n",
            "\u001b[?25hInstallation and Imports complete.\n"
          ]
        }
      ]
    },
    {
      "cell_type": "markdown",
      "source": [
        "----------------------------------------------------------------\n",
        "2. Model and Processor Loading\n",
        "----------------------------------------------------------------"
      ],
      "metadata": {
        "id": "k_U5zVkB5Nya"
      }
    },
    {
      "cell_type": "code",
      "source": [
        "# We use the 7B model for a good balance of performance and capability.\n",
        "MODEL_ID = \"Qwen/Qwen2.5-VL-7B-Instruct\"\n",
        "\n",
        "# Check for GPU availability and set device\n",
        "if torch.cuda.is_available():\n",
        "    device = \"cuda\"\n",
        "    dtype = torch.bfloat16 # Use bfloat16 for faster inference if supported\n",
        "else:\n",
        "    device = \"cpu\"\n",
        "    dtype = torch.float32\n",
        "\n",
        "print(f\"--- Environment Setup ---\")\n",
        "print(f\"Device: {device}\")\n",
        "print(f\"Loading Model: {MODEL_ID}\")\n",
        "print(\"-\" * 25)\n",
        "\n",
        "try:\n",
        "    # Load the Model and Processor\n",
        "    tokenizer = AutoTokenizer.from_pretrained(MODEL_ID)\n",
        "    processor = AutoProcessor.from_pretrained(MODEL_ID)\n",
        "\n",
        "    # Load model with performance optimizations\n",
        "    model = Qwen2_5_VLForConditionalGeneration.from_pretrained(\n",
        "        MODEL_ID,\n",
        "        torch_dtype=dtype,\n",
        "        device_map=\"auto\",\n",
        "    ).eval()\n",
        "    print(\"Model loaded successfully.\")\n",
        "\n",
        "except Exception as e:\n",
        "    print(f\"Error loading model or libraries: {e}\")\n",
        "    print(\"Please ensure you have a T4 GPU enabled in Colab runtime settings.\")\n",
        "    model = None"
      ],
      "metadata": {
        "id": "j60vWdw-5Xk9",
        "outputId": "a276227b-4c80-4ad4-f50f-8126ffcdef45",
        "colab": {
          "base_uri": "https://localhost:8080/",
          "height": 155,
          "referenced_widgets": [
            "04bf1e6148264754bad2ba26051e1988",
            "e61afaa682b848e8b517b1a27c277c1b",
            "76455e30499542d892d61374e516c4fb",
            "8670096846c949e896b5fc3b8e40c81c",
            "4f64b11d006e4cbca5c415b6e331d355",
            "19c11ca0b9dc4dfcb94bb37715265546",
            "424d2904bb4a4351b87f2fa14cbfbc0f",
            "6e0f1572ff84415484d8147ace104963",
            "02c37138aa13481ab07513ffb447a842",
            "69d7c0d87dd745098b44f0f5f18543e6",
            "0aa6e365af5b40eabac9d4fcf6da97a1"
          ]
        }
      },
      "execution_count": 10,
      "outputs": [
        {
          "output_type": "stream",
          "name": "stdout",
          "text": [
            "--- Environment Setup ---\n",
            "Device: cuda\n",
            "Loading Model: Qwen/Qwen2.5-VL-7B-Instruct\n",
            "-------------------------\n"
          ]
        },
        {
          "output_type": "display_data",
          "data": {
            "text/plain": [
              "Loading checkpoint shards:   0%|          | 0/5 [00:00<?, ?it/s]"
            ],
            "application/vnd.jupyter.widget-view+json": {
              "version_major": 2,
              "version_minor": 0,
              "model_id": "04bf1e6148264754bad2ba26051e1988"
            }
          },
          "metadata": {}
        },
        {
          "output_type": "stream",
          "name": "stderr",
          "text": [
            "WARNING:accelerate.big_modeling:Some parameters are on the meta device because they were offloaded to the disk and cpu.\n"
          ]
        },
        {
          "output_type": "stream",
          "name": "stdout",
          "text": [
            "Model loaded successfully.\n"
          ]
        }
      ]
    },
    {
      "cell_type": "markdown",
      "source": [
        "----------------------------------------------------------------\n",
        "3. Inference Function Definition\n",
        "----------------------------------------------------------------"
      ],
      "metadata": {
        "id": "3H1W-77G5gYZ"
      }
    },
    {
      "cell_type": "code",
      "source": [
        "def classify_image(image_url: str, question: str):\n",
        "    \"\"\"\n",
        "    Downloads an image, prepares the multimodal prompt, and generates a response\n",
        "    using the Qwen2.5-VL model.\n",
        "    \"\"\"\n",
        "    if model is None:\n",
        "        return \"Model failed to load. Cannot run inference.\"\n",
        "\n",
        "    print(f\"\\n--- Running Inference ---\")\n",
        "    print(f\"Question: {question}\")\n",
        "\n",
        "    # 1. Download and load the image\n",
        "    try:\n",
        "        response = requests.get(image_url, stream=True)\n",
        "        response.raise_for_status()\n",
        "        image = Image.open(BytesIO(response.content)).convert(\"RGB\")\n",
        "        print(f\"Image loaded: {image_url}\")\n",
        "    except Exception as e:\n",
        "        return f\"Error loading image from URL: {e}\"\n",
        "\n",
        "    # 2. Construct the chat template (Qwen-VL uses a specific structure)\n",
        "    conversation = [\n",
        "        {\n",
        "            \"role\": \"user\",\n",
        "            \"content\": [\n",
        "                {\"type\": \"image\", \"image\": image},\n",
        "                {\"type\": \"text\", \"text\": question}\n",
        "            ],\n",
        "        }\n",
        "    ]\n",
        "\n",
        "    # 3. Process the input (tokenization and tensor conversion)\n",
        "    try:\n",
        "        inputs = processor.apply_chat_template(\n",
        "            conversation,\n",
        "            tokenize=True,\n",
        "            add_generation_prompt=True,\n",
        "            return_dict=True,\n",
        "            return_tensors=\"pt\"\n",
        "        ).to(device)\n",
        "\n",
        "        # 4. Generate the response\n",
        "        output_ids = model.generate(\n",
        "            **inputs,\n",
        "            do_sample=False,\n",
        "            max_new_tokens=50,\n",
        "        )\n",
        "\n",
        "        # Decode the generated tokens\n",
        "        response_text = tokenizer.decode(output_ids[0], skip_special_tokens=True)\n",
        "\n",
        "        # Extract only the assistant's response part\n",
        "        assistant_tag = \"<|im_start|>assistant\\n\"\n",
        "        if assistant_tag in response_text:\n",
        "            response_text = response_text.split(assistant_tag)[-1].strip()\n",
        "\n",
        "        return response_text\n",
        "\n",
        "    except Exception as e:\n",
        "        return f\"Error during model inference: {e}\""
      ],
      "metadata": {
        "id": "GVr8QzeH5mMc"
      },
      "execution_count": 11,
      "outputs": []
    },
    {
      "cell_type": "markdown",
      "source": [
        "----------------------------------------------------------------\n",
        "4. Execution Examples\n",
        "----------------------------------------------------------------"
      ],
      "metadata": {
        "id": "ygtWEw9P5oUo"
      }
    },
    {
      "cell_type": "code",
      "source": [
        "# Example 1: Standard Image Classification (What is this?)\n",
        "image_url_1 = \"https://www.activewild.com/wp-content/uploads/2021/12/Malayan-Tapir.jpg\"\n",
        "question_1 = \"What kind of animal is this in the image? Be precise and only state the breed.\"\n",
        "\n",
        "# Example 2: Classification with additional context/reasoning\n",
        "image_url_2 = \"https://placehold.co/600x400/FF5733/FFFFFF?text=Pie+Chart+Showing+60%25+Sales\"\n",
        "question_2 = \"Based on this image, what type of chart is displayed, and what is the primary color used for the largest segment?\"\n",
        "\n",
        "\n",
        "\n",
        "# Result 1\n",
        "result_1 = classify_image(image_url_1, question_1)\n",
        "print(f\"\\n[Image 1 Classification Result]\\n{result_1}\")\n",
        "print(\"=\" * 50)\n",
        "\n",
        "# Result 2\n",
        "result_2 = classify_image(image_url_2, question_2)\n",
        "print(f\"\\n[Image 2 Classification Result]\\n{result_2}\")\n",
        "print(\"=\" * 50)\n"
      ],
      "outputs": [
        {
          "output_type": "stream",
          "name": "stdout",
          "text": [
            "\n",
            "--- Running Inference ---\n",
            "Question: What kind of animal is this in the image? Be precise and only state the breed.\n",
            "Image loaded: https://www.activewild.com/wp-content/uploads/2021/12/Malayan-Tapir.jpg\n"
          ]
        }
      ],
      "execution_count": null,
      "metadata": {
        "id": "UrGekvd53frq",
        "outputId": "357f8892-2f99-4f82-ba4c-3c6661203122",
        "colab": {
          "base_uri": "https://localhost:8080/"
        }
      }
    }
  ],
  "metadata": {
    "colab": {
      "provenance": [],
      "gpuType": "T4",
      "include_colab_link": true
    },
    "kernelspec": {
      "display_name": "Python 3",
      "name": "python3"
    },
    "accelerator": "GPU",
    "widgets": {
      "application/vnd.jupyter.widget-state+json": {
        "04bf1e6148264754bad2ba26051e1988": {
          "model_module": "@jupyter-widgets/controls",
          "model_name": "HBoxModel",
          "model_module_version": "1.5.0",
          "state": {
            "_dom_classes": [],
            "_model_module": "@jupyter-widgets/controls",
            "_model_module_version": "1.5.0",
            "_model_name": "HBoxModel",
            "_view_count": null,
            "_view_module": "@jupyter-widgets/controls",
            "_view_module_version": "1.5.0",
            "_view_name": "HBoxView",
            "box_style": "",
            "children": [
              "IPY_MODEL_e61afaa682b848e8b517b1a27c277c1b",
              "IPY_MODEL_76455e30499542d892d61374e516c4fb",
              "IPY_MODEL_8670096846c949e896b5fc3b8e40c81c"
            ],
            "layout": "IPY_MODEL_4f64b11d006e4cbca5c415b6e331d355"
          }
        },
        "e61afaa682b848e8b517b1a27c277c1b": {
          "model_module": "@jupyter-widgets/controls",
          "model_name": "HTMLModel",
          "model_module_version": "1.5.0",
          "state": {
            "_dom_classes": [],
            "_model_module": "@jupyter-widgets/controls",
            "_model_module_version": "1.5.0",
            "_model_name": "HTMLModel",
            "_view_count": null,
            "_view_module": "@jupyter-widgets/controls",
            "_view_module_version": "1.5.0",
            "_view_name": "HTMLView",
            "description": "",
            "description_tooltip": null,
            "layout": "IPY_MODEL_19c11ca0b9dc4dfcb94bb37715265546",
            "placeholder": "​",
            "style": "IPY_MODEL_424d2904bb4a4351b87f2fa14cbfbc0f",
            "value": "Loading checkpoint shards: 100%"
          }
        },
        "76455e30499542d892d61374e516c4fb": {
          "model_module": "@jupyter-widgets/controls",
          "model_name": "FloatProgressModel",
          "model_module_version": "1.5.0",
          "state": {
            "_dom_classes": [],
            "_model_module": "@jupyter-widgets/controls",
            "_model_module_version": "1.5.0",
            "_model_name": "FloatProgressModel",
            "_view_count": null,
            "_view_module": "@jupyter-widgets/controls",
            "_view_module_version": "1.5.0",
            "_view_name": "ProgressView",
            "bar_style": "success",
            "description": "",
            "description_tooltip": null,
            "layout": "IPY_MODEL_6e0f1572ff84415484d8147ace104963",
            "max": 5,
            "min": 0,
            "orientation": "horizontal",
            "style": "IPY_MODEL_02c37138aa13481ab07513ffb447a842",
            "value": 5
          }
        },
        "8670096846c949e896b5fc3b8e40c81c": {
          "model_module": "@jupyter-widgets/controls",
          "model_name": "HTMLModel",
          "model_module_version": "1.5.0",
          "state": {
            "_dom_classes": [],
            "_model_module": "@jupyter-widgets/controls",
            "_model_module_version": "1.5.0",
            "_model_name": "HTMLModel",
            "_view_count": null,
            "_view_module": "@jupyter-widgets/controls",
            "_view_module_version": "1.5.0",
            "_view_name": "HTMLView",
            "description": "",
            "description_tooltip": null,
            "layout": "IPY_MODEL_69d7c0d87dd745098b44f0f5f18543e6",
            "placeholder": "​",
            "style": "IPY_MODEL_0aa6e365af5b40eabac9d4fcf6da97a1",
            "value": " 5/5 [00:06&lt;00:00,  2.54s/it]"
          }
        },
        "4f64b11d006e4cbca5c415b6e331d355": {
          "model_module": "@jupyter-widgets/base",
          "model_name": "LayoutModel",
          "model_module_version": "1.2.0",
          "state": {
            "_model_module": "@jupyter-widgets/base",
            "_model_module_version": "1.2.0",
            "_model_name": "LayoutModel",
            "_view_count": null,
            "_view_module": "@jupyter-widgets/base",
            "_view_module_version": "1.2.0",
            "_view_name": "LayoutView",
            "align_content": null,
            "align_items": null,
            "align_self": null,
            "border": null,
            "bottom": null,
            "display": null,
            "flex": null,
            "flex_flow": null,
            "grid_area": null,
            "grid_auto_columns": null,
            "grid_auto_flow": null,
            "grid_auto_rows": null,
            "grid_column": null,
            "grid_gap": null,
            "grid_row": null,
            "grid_template_areas": null,
            "grid_template_columns": null,
            "grid_template_rows": null,
            "height": null,
            "justify_content": null,
            "justify_items": null,
            "left": null,
            "margin": null,
            "max_height": null,
            "max_width": null,
            "min_height": null,
            "min_width": null,
            "object_fit": null,
            "object_position": null,
            "order": null,
            "overflow": null,
            "overflow_x": null,
            "overflow_y": null,
            "padding": null,
            "right": null,
            "top": null,
            "visibility": null,
            "width": null
          }
        },
        "19c11ca0b9dc4dfcb94bb37715265546": {
          "model_module": "@jupyter-widgets/base",
          "model_name": "LayoutModel",
          "model_module_version": "1.2.0",
          "state": {
            "_model_module": "@jupyter-widgets/base",
            "_model_module_version": "1.2.0",
            "_model_name": "LayoutModel",
            "_view_count": null,
            "_view_module": "@jupyter-widgets/base",
            "_view_module_version": "1.2.0",
            "_view_name": "LayoutView",
            "align_content": null,
            "align_items": null,
            "align_self": null,
            "border": null,
            "bottom": null,
            "display": null,
            "flex": null,
            "flex_flow": null,
            "grid_area": null,
            "grid_auto_columns": null,
            "grid_auto_flow": null,
            "grid_auto_rows": null,
            "grid_column": null,
            "grid_gap": null,
            "grid_row": null,
            "grid_template_areas": null,
            "grid_template_columns": null,
            "grid_template_rows": null,
            "height": null,
            "justify_content": null,
            "justify_items": null,
            "left": null,
            "margin": null,
            "max_height": null,
            "max_width": null,
            "min_height": null,
            "min_width": null,
            "object_fit": null,
            "object_position": null,
            "order": null,
            "overflow": null,
            "overflow_x": null,
            "overflow_y": null,
            "padding": null,
            "right": null,
            "top": null,
            "visibility": null,
            "width": null
          }
        },
        "424d2904bb4a4351b87f2fa14cbfbc0f": {
          "model_module": "@jupyter-widgets/controls",
          "model_name": "DescriptionStyleModel",
          "model_module_version": "1.5.0",
          "state": {
            "_model_module": "@jupyter-widgets/controls",
            "_model_module_version": "1.5.0",
            "_model_name": "DescriptionStyleModel",
            "_view_count": null,
            "_view_module": "@jupyter-widgets/base",
            "_view_module_version": "1.2.0",
            "_view_name": "StyleView",
            "description_width": ""
          }
        },
        "6e0f1572ff84415484d8147ace104963": {
          "model_module": "@jupyter-widgets/base",
          "model_name": "LayoutModel",
          "model_module_version": "1.2.0",
          "state": {
            "_model_module": "@jupyter-widgets/base",
            "_model_module_version": "1.2.0",
            "_model_name": "LayoutModel",
            "_view_count": null,
            "_view_module": "@jupyter-widgets/base",
            "_view_module_version": "1.2.0",
            "_view_name": "LayoutView",
            "align_content": null,
            "align_items": null,
            "align_self": null,
            "border": null,
            "bottom": null,
            "display": null,
            "flex": null,
            "flex_flow": null,
            "grid_area": null,
            "grid_auto_columns": null,
            "grid_auto_flow": null,
            "grid_auto_rows": null,
            "grid_column": null,
            "grid_gap": null,
            "grid_row": null,
            "grid_template_areas": null,
            "grid_template_columns": null,
            "grid_template_rows": null,
            "height": null,
            "justify_content": null,
            "justify_items": null,
            "left": null,
            "margin": null,
            "max_height": null,
            "max_width": null,
            "min_height": null,
            "min_width": null,
            "object_fit": null,
            "object_position": null,
            "order": null,
            "overflow": null,
            "overflow_x": null,
            "overflow_y": null,
            "padding": null,
            "right": null,
            "top": null,
            "visibility": null,
            "width": null
          }
        },
        "02c37138aa13481ab07513ffb447a842": {
          "model_module": "@jupyter-widgets/controls",
          "model_name": "ProgressStyleModel",
          "model_module_version": "1.5.0",
          "state": {
            "_model_module": "@jupyter-widgets/controls",
            "_model_module_version": "1.5.0",
            "_model_name": "ProgressStyleModel",
            "_view_count": null,
            "_view_module": "@jupyter-widgets/base",
            "_view_module_version": "1.2.0",
            "_view_name": "StyleView",
            "bar_color": null,
            "description_width": ""
          }
        },
        "69d7c0d87dd745098b44f0f5f18543e6": {
          "model_module": "@jupyter-widgets/base",
          "model_name": "LayoutModel",
          "model_module_version": "1.2.0",
          "state": {
            "_model_module": "@jupyter-widgets/base",
            "_model_module_version": "1.2.0",
            "_model_name": "LayoutModel",
            "_view_count": null,
            "_view_module": "@jupyter-widgets/base",
            "_view_module_version": "1.2.0",
            "_view_name": "LayoutView",
            "align_content": null,
            "align_items": null,
            "align_self": null,
            "border": null,
            "bottom": null,
            "display": null,
            "flex": null,
            "flex_flow": null,
            "grid_area": null,
            "grid_auto_columns": null,
            "grid_auto_flow": null,
            "grid_auto_rows": null,
            "grid_column": null,
            "grid_gap": null,
            "grid_row": null,
            "grid_template_areas": null,
            "grid_template_columns": null,
            "grid_template_rows": null,
            "height": null,
            "justify_content": null,
            "justify_items": null,
            "left": null,
            "margin": null,
            "max_height": null,
            "max_width": null,
            "min_height": null,
            "min_width": null,
            "object_fit": null,
            "object_position": null,
            "order": null,
            "overflow": null,
            "overflow_x": null,
            "overflow_y": null,
            "padding": null,
            "right": null,
            "top": null,
            "visibility": null,
            "width": null
          }
        },
        "0aa6e365af5b40eabac9d4fcf6da97a1": {
          "model_module": "@jupyter-widgets/controls",
          "model_name": "DescriptionStyleModel",
          "model_module_version": "1.5.0",
          "state": {
            "_model_module": "@jupyter-widgets/controls",
            "_model_module_version": "1.5.0",
            "_model_name": "DescriptionStyleModel",
            "_view_count": null,
            "_view_module": "@jupyter-widgets/base",
            "_view_module_version": "1.2.0",
            "_view_name": "StyleView",
            "description_width": ""
          }
        }
      }
    }
  },
  "nbformat": 4,
  "nbformat_minor": 0
}